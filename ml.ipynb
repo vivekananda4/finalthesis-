{
 "cells": [
  {
   "cell_type": "code",
   "execution_count": null,
   "id": "1d4963dc-b220-444b-8d43-e819414acd6b",
   "metadata": {},
   "outputs": [],
   "source": [
    "# -------------------------------\n",
    "# 1️⃣ Install Required Libraries\n",
    "# -------------------------------\n",
    "!pip install scikit-learn==1.0.2 joblib==1.1.0 --quiet\n",
    "\n",
    "# -------------------------------\n",
    "# 2️⃣ Import Libraries\n",
    "# -------------------------------\n",
    "import pandas as pd\n",
    "import numpy as np\n",
    "import joblib\n",
    "import tarfile\n",
    "import sagemaker\n",
    "from sklearn.model_selection import train_test_split\n",
    "from sklearn.ensemble import RandomForestClassifier\n",
    "from sklearn.metrics import accuracy_score, classification_report\n",
    "from sagemaker.sklearn.model import SKLearnModel\n",
    "from sagemaker import get_execution_role\n",
    "import boto3\n",
    "\n",
    "# -------------------------------\n",
    "# 3️⃣ Initialize SageMaker Session\n",
    "# -------------------------------\n",
    "session = sagemaker.Session()\n",
    "bucket = \"mlpredictagri\"    # Replace with your S3 bucket\n",
    "role = get_execution_role()\n",
    "\n",
    "# -------------------------------\n",
    "# 4️⃣ Load Your Real Dataset\n",
    "# -------------------------------\n",
    "df = pd.read_csv(\"final_real_dataset_complete.csv\")\n",
    "\n",
    "# Display dataset info\n",
    "print(\"Dataset Shape:\", df.shape)\n",
    "print(\"Columns:\", df.columns.tolist())\n",
    "df.head()\n",
    "\n",
    "# -------------------------------\n",
    "# 5️⃣ Prepare Data\n",
    "# -------------------------------\n",
    "# Add target column 'irrigation_needed'\n",
    "# Simple rule: If soil moisture < 15 AND temp > 30 AND rain < 5 => needs irrigation\n",
    "df['irrigation_needed'] = df.apply(\n",
    "    lambda row: 1 if (row['Soil_Moisture'] < 15 and row['Ambient_Temperature'] > 30 and row['Rainfall'] < 5)\n",
    "    else 0, axis=1\n",
    ")\n",
    "\n",
    "# Features and target\n",
    "X = df[['Ambient_Temperature', 'Humidity', 'Soil_Moisture', \n",
    "        'Light_Intensity', 'Rainfall', 'Annual CO₂ emissions (tonnes )']]\n",
    "y = df['irrigation_needed']\n",
    "\n",
    "# Split dataset\n",
    "X_train, X_test, y_train, y_test = train_test_split(X, y, test_size=0.2, random_state=42)\n",
    "\n",
    "# -------------------------------\n",
    "# -------------------------------\n",
    "# 6️⃣ Train Model with class_weight\n",
    "# -------------------------------\n",
    "model = RandomForestClassifier(\n",
    "    n_estimators=100,\n",
    "    random_state=42,\n",
    "    class_weight='balanced'  # <-- This is the key fix\n",
    ")\n",
    "model.fit(X_train, y_train)\n",
    "\n",
    "# Evaluate\n",
    "y_pred = model.predict(X_test)\n",
    "accuracy = accuracy_score(y_test, y_pred)\n",
    "print(\"✅ Accuracy:\", accuracy)\n",
    "print(\"Classification Report:\\n\", classification_report(y_test, y_pred))\n",
    "\n",
    "# Check how many irrigation=1 it predicted\n",
    "print(\"Predicted counts:\", pd.Series(y_pred).value_counts())\n",
    "\n",
    "\n",
    "# -------------------------------\n",
    "# 7️⃣ Save Model\n",
    "# -------------------------------\n",
    "joblib.dump(model, \"irrigation_model.joblib\", protocol=2)\n",
    "print(\"✅ Model trained and saved\")\n",
    "\n",
    "# -------------------------------\n",
    "# 8️⃣ Package Model (with predict.py)\n",
    "# -------------------------------\n",
    "!mkdir -p model\n",
    "!cp irrigation_model.joblib model/\n",
    "\n",
    "# Create a predict.py file for inference\n",
    "with open(\"predict.py\", \"w\") as f:\n",
    "    f.write('''\n",
    "import joblib\n",
    "import json\n",
    "import os\n",
    "\n",
    "def model_fn(model_dir):\n",
    "    model = joblib.load(os.path.join(model_dir, \"irrigation_model.joblib\"))\n",
    "    return model\n",
    "\n",
    "def input_fn(request_body, request_content_type):\n",
    "    if request_content_type == \"application/json\":\n",
    "        return json.loads(request_body)\n",
    "    raise ValueError(\"Unsupported content type: \" + request_content_type)\n",
    "\n",
    "def predict_fn(input_data, model):\n",
    "    data = [input_data['Ambient_Temperature'],\n",
    "            input_data['Humidity'],\n",
    "            input_data['Soil_Moisture'],\n",
    "            input_data['Light_Intensity'],\n",
    "            input_data['Rainfall'],\n",
    "            input_data['Annual CO₂ emissions (tonnes )']]\n",
    "    prediction = model.predict([data])\n",
    "    return {\"irrigation_needed\": int(prediction[0])}\n",
    "\n",
    "def output_fn(prediction, content_type):\n",
    "    return json.dumps(prediction)\n",
    "''')\n",
    "\n",
    "!cp predict.py model/\n",
    "!tar -czf model.tar.gz -C model .\n",
    "\n",
    "# -------------------------------\n",
    "# 9️⃣ Upload Model to S3\n",
    "# -------------------------------\n",
    "s3 = boto3.client('s3')\n",
    "s3.upload_file(\"model.tar.gz\", bucket, \"models/model_real.tar.gz\")\n",
    "s3_path = f\"s3://{bucket}/models/model_real.tar.gz\"\n",
    "print(\"✅ Model uploaded to:\", s3_path)\n",
    "\n",
    "# -------------------------------\n",
    "# 🔟 Deploy Model to SageMaker Endpoint\n",
    "# -------------------------------\n",
    "model = SKLearnModel(\n",
    "    model_data=s3_path,\n",
    "    role=role,\n",
    "    entry_point=\"predict.py\",\n",
    "    framework_version=\"1.0-1\",\n",
    "    py_version=\"py3\"\n",
    ")\n",
    "\n",
    "predictor = model.deploy(\n",
    "    instance_type=\"ml.t2.medium\",\n",
    "    initial_instance_count=1\n",
    ")\n",
    "print(\" Model deployed successfully to SageMaker Endpoint!\")\n"
   ]
  },
  {
   "cell_type": "code",
   "execution_count": 159,
   "id": "b27038df-79b7-4d77-bfc6-5779aabe9ecd",
   "metadata": {},
   "outputs": [
    {
     "name": "stdout",
     "output_type": "stream",
     "text": [
      "🔍 Prediction Response: {\"irrigation_needed\": 1}\n"
     ]
    }
   ],
   "source": [
    "from sagemaker.predictor import Predictor\n",
    "import json\n",
    "\n",
    "# Use the deployed endpoint\n",
    "endpoint_name = \"sagemaker-scikit-learn-2025-08-07-15-40-15-026\"\n",
    "predictor = Predictor(endpoint_name=endpoint_name)\n",
    "\n",
    "# Set the content type\n",
    "predictor.content_type = \"application/json\"\n",
    "\n",
    "# Example test input (replace with real values from your dataset range)\n",
    "test_input = {\n",
    "    \"Ambient_Temperature\": 35.0,\n",
    "    \"Humidity\": 60.0,\n",
    "    \"Soil_Moisture\": 12.0,\n",
    "    \"Light_Intensity\": 700.0,\n",
    "    \"Rainfall\": 2.0,\n",
    "    \"Annual CO₂ emissions (tonnes )\": 4.0\n",
    "}\n",
    "\n",
    "# Invoke the endpoint\n",
    "response = predictor.predict(json.dumps(test_input))\n",
    "print(\"🔍 Prediction Response:\", response.decode('utf-8'))\n"
   ]
  },
  {
   "cell_type": "code",
   "execution_count": 160,
   "id": "4d303be5-1a21-479f-9117-da819308aaff",
   "metadata": {},
   "outputs": [
    {
     "name": "stdout",
     "output_type": "stream",
     "text": [
      "✅ Accuracy: 1.0\n"
     ]
    }
   ],
   "source": [
    "print(\"✅ Accuracy:\", accuracy)\n"
   ]
  },
  {
   "cell_type": "code",
   "execution_count": 161,
   "id": "76f211c6-4f94-4b8e-8af2-64840a2a3c91",
   "metadata": {},
   "outputs": [
    {
     "name": "stdout",
     "output_type": "stream",
     "text": [
      "Test Set Distribution:\n",
      " irrigation_needed\n",
      "0    221\n",
      "1     19\n",
      "Name: count, dtype: int64\n",
      "Prediction Distribution:\n",
      " 0    221\n",
      "1     19\n",
      "Name: count, dtype: int64\n"
     ]
    }
   ],
   "source": [
    "print(\"Test Set Distribution:\\n\", y_test.value_counts())\n",
    "print(\"Prediction Distribution:\\n\", pd.Series(y_pred).value_counts())\n"
   ]
  },
  {
   "cell_type": "code",
   "execution_count": 162,
   "id": "72f7caaa-45e0-475e-b76d-7dfd79aec265",
   "metadata": {},
   "outputs": [
    {
     "name": "stdout",
     "output_type": "stream",
     "text": [
      "[[221   0]\n",
      " [  0  19]]\n"
     ]
    }
   ],
   "source": [
    "from sklearn.metrics import confusion_matrix\n",
    "print(confusion_matrix(y_test, y_pred))\n"
   ]
  },
  {
   "cell_type": "code",
   "execution_count": 163,
   "id": "8818f574-02fb-4d2a-b03c-4bc171a47702",
   "metadata": {},
   "outputs": [
    {
     "name": "stdout",
     "output_type": "stream",
     "text": [
      "              precision    recall  f1-score   support\n",
      "\n",
      "           0       1.00      1.00      1.00       221\n",
      "           1       1.00      1.00      1.00        19\n",
      "\n",
      "    accuracy                           1.00       240\n",
      "   macro avg       1.00      1.00      1.00       240\n",
      "weighted avg       1.00      1.00      1.00       240\n",
      "\n"
     ]
    }
   ],
   "source": [
    "from sklearn.metrics import classification_report\n",
    "print(classification_report(y_test, y_pred))\n"
   ]
  },
  {
   "cell_type": "code",
   "execution_count": null,
   "id": "0a860802-bca2-4339-9b47-114769d0dc6a",
   "metadata": {},
   "outputs": [],
   "source": []
  }
 ],
 "metadata": {
  "kernelspec": {
   "display_name": "conda_python3",
   "language": "python",
   "name": "conda_python3"
  },
  "language_info": {
   "codemirror_mode": {
    "name": "ipython",
    "version": 3
   },
   "file_extension": ".py",
   "mimetype": "text/x-python",
   "name": "python",
   "nbconvert_exporter": "python",
   "pygments_lexer": "ipython3",
   "version": "3.10.18"
  }
 },
 "nbformat": 4,
 "nbformat_minor": 5
}
