{
 "cells": [
  {
   "cell_type": "code",
   "execution_count": 1,
   "id": "23f8825f-50ed-4f33-bab1-47da465047f8",
   "metadata": {},
   "outputs": [
    {
     "name": "stdout",
     "output_type": "stream",
     "text": [
      "Python 3.10.18\n"
     ]
    }
   ],
   "source": [
    "!python --version\n"
   ]
  },
  {
   "cell_type": "code",
   "execution_count": 2,
   "id": "48e4430c-952e-4fcc-8a9f-36c1354c720f",
   "metadata": {},
   "outputs": [
    {
     "name": "stderr",
     "output_type": "stream",
     "text": [
      "/home/ec2-user/anaconda3/envs/python3/lib/python3.10/site-packages/pandas/core/computation/expressions.py:21: UserWarning: Pandas requires version '2.8.4' or newer of 'numexpr' (version '2.7.3' currently installed).\n",
      "  from pandas.core.computation.check import NUMEXPR_INSTALLED\n"
     ]
    },
    {
     "name": "stdout",
     "output_type": "stream",
     "text": [
      "sagemaker.config INFO - Not applying SDK defaults from location: /etc/xdg/sagemaker/config.yaml\n",
      "sagemaker.config INFO - Not applying SDK defaults from location: /home/ec2-user/.config/sagemaker/config.yaml\n"
     ]
    }
   ],
   "source": [
    "import pandas as pd\n",
    "import numpy as np\n",
    "import joblib\n",
    "import tarfile\n",
    "import sagemaker\n",
    "from sklearn.ensemble import RandomForestClassifier\n",
    "from sagemaker.sklearn.model import SKLearnModel\n",
    "from sagemaker import get_execution_role\n",
    "\n",
    "# Initialize SageMaker session\n",
    "session = sagemaker.Session()\n",
    "bucket = session.default_bucket()\n",
    "role = get_execution_role()\n"
   ]
  },
  {
   "cell_type": "code",
   "execution_count": 3,
   "id": "bc3e4b72-3326-4a70-b5dd-578c0a11b43e",
   "metadata": {},
   "outputs": [
    {
     "data": {
      "text/html": [
       "<div>\n",
       "<style scoped>\n",
       "    .dataframe tbody tr th:only-of-type {\n",
       "        vertical-align: middle;\n",
       "    }\n",
       "\n",
       "    .dataframe tbody tr th {\n",
       "        vertical-align: top;\n",
       "    }\n",
       "\n",
       "    .dataframe thead th {\n",
       "        text-align: right;\n",
       "    }\n",
       "</style>\n",
       "<table border=\"1\" class=\"dataframe\">\n",
       "  <thead>\n",
       "    <tr style=\"text-align: right;\">\n",
       "      <th></th>\n",
       "      <th>temperature</th>\n",
       "      <th>humidity</th>\n",
       "      <th>soil_moisture</th>\n",
       "      <th>irrigation_needed</th>\n",
       "    </tr>\n",
       "  </thead>\n",
       "  <tbody>\n",
       "    <tr>\n",
       "      <th>0</th>\n",
       "      <td>33.22</td>\n",
       "      <td>61.33</td>\n",
       "      <td>17.29</td>\n",
       "      <td>0</td>\n",
       "    </tr>\n",
       "    <tr>\n",
       "      <th>1</th>\n",
       "      <td>22.56</td>\n",
       "      <td>77.01</td>\n",
       "      <td>21.16</td>\n",
       "      <td>0</td>\n",
       "    </tr>\n",
       "    <tr>\n",
       "      <th>2</th>\n",
       "      <td>32.03</td>\n",
       "      <td>73.79</td>\n",
       "      <td>17.18</td>\n",
       "      <td>0</td>\n",
       "    </tr>\n",
       "    <tr>\n",
       "      <th>3</th>\n",
       "      <td>27.72</td>\n",
       "      <td>55.14</td>\n",
       "      <td>34.43</td>\n",
       "      <td>0</td>\n",
       "    </tr>\n",
       "    <tr>\n",
       "      <th>4</th>\n",
       "      <td>21.16</td>\n",
       "      <td>77.29</td>\n",
       "      <td>34.11</td>\n",
       "      <td>0</td>\n",
       "    </tr>\n",
       "  </tbody>\n",
       "</table>\n",
       "</div>"
      ],
      "text/plain": [
       "   temperature  humidity  soil_moisture  irrigation_needed\n",
       "0        33.22     61.33          17.29                  0\n",
       "1        22.56     77.01          21.16                  0\n",
       "2        32.03     73.79          17.18                  0\n",
       "3        27.72     55.14          34.43                  0\n",
       "4        21.16     77.29          34.11                  0"
      ]
     },
     "execution_count": 3,
     "metadata": {},
     "output_type": "execute_result"
    }
   ],
   "source": [
    "data = []\n",
    "for _ in range(1000):\n",
    "    temp = round(np.random.uniform(20, 40), 2)\n",
    "    humidity = round(np.random.uniform(50, 90), 2)\n",
    "    soil = round(np.random.uniform(5, 40), 2)\n",
    "    irrigation = 1 if soil < 15 and temp > 30 else 0\n",
    "    data.append([temp, humidity, soil, irrigation])\n",
    "\n",
    "df = pd.DataFrame(data, columns=[\"temperature\", \"humidity\", \"soil_moisture\", \"irrigation_needed\"])\n",
    "df.to_csv(\"sensor_training_data.csv\", index=False)\n",
    "df.head()\n"
   ]
  },
  {
   "cell_type": "code",
   "execution_count": 4,
   "id": "99fd698c-a982-4038-9868-f8dfa87f68c8",
   "metadata": {},
   "outputs": [
    {
     "name": "stdout",
     "output_type": "stream",
     "text": [
      " Model trained and saved\n"
     ]
    }
   ],
   "source": [
    "df = pd.read_csv(\"sensor_training_data.csv\")\n",
    "X = df[[\"temperature\", \"humidity\", \"soil_moisture\"]]\n",
    "y = df[\"irrigation_needed\"]\n",
    "\n",
    "model = RandomForestClassifier(n_estimators=100, random_state=42)\n",
    "model.fit(X, y)\n",
    "\n",
    "joblib.dump(model, \"irrigation_model.joblib\")\n",
    "print(\" Model trained and saved\")\n"
   ]
  },
  {
   "cell_type": "code",
   "execution_count": 5,
   "id": "f133aec2-193f-447e-9d9d-beb3707ff1fd",
   "metadata": {},
   "outputs": [
    {
     "name": "stdout",
     "output_type": "stream",
     "text": [
      " Model packaged as model.tar.gz\n"
     ]
    }
   ],
   "source": [
    "with tarfile.open(\"model.tar.gz\", \"w:gz\") as tar:\n",
    "    tar.add(\"irrigation_model.joblib\", arcname=\"irrigation_model.joblib\")\n",
    "print(\" Model packaged as model.tar.gz\")\n"
   ]
  },
  {
   "cell_type": "code",
   "execution_count": 6,
   "id": "71388947-524c-4b04-abea-38151db6ba7d",
   "metadata": {},
   "outputs": [
    {
     "name": "stdout",
     "output_type": "stream",
     "text": [
      "Model uploaded to: s3://sagemaker-us-east-1-196936075057/models/model.tar.gz\n"
     ]
    }
   ],
   "source": [
    "s3_path = session.upload_data(\"model.tar.gz\", bucket=bucket, key_prefix=\"models\")\n",
    "print(\"Model uploaded to:\", s3_path)\n"
   ]
  },
  {
   "cell_type": "code",
   "execution_count": null,
   "id": "6c3768f1-7f9b-48de-911a-6b5c86adc43c",
   "metadata": {},
   "outputs": [
    {
     "name": "stdout",
     "output_type": "stream",
     "text": [
      "---"
     ]
    }
   ],
   "source": [
    "model = SKLearnModel(\n",
    "    model_data=s3_path,\n",
    "    role=role,\n",
    "    entry_point=\"predict.py\",\n",
    "    framework_version=\"1.0-1\",  # ✅ Supports Python 3.8+\n",
    "    py_version=\"py3\"\n",
    ")\n",
    "\n",
    "predictor = model.deploy(\n",
    "    instance_type=\"ml.m5.large\",\n",
    "    initial_instance_count=1\n",
    ")\n",
    "\n",
    "print(\"Model deployed successfully!\")\n"
   ]
  },
  {
   "cell_type": "code",
   "execution_count": null,
   "id": "53abc14b-80a8-4868-864d-ec43e0599507",
   "metadata": {},
   "outputs": [],
   "source": []
  }
 ],
 "metadata": {
  "kernelspec": {
   "display_name": "conda_python3",
   "language": "python",
   "name": "conda_python3"
  },
  "language_info": {
   "codemirror_mode": {
    "name": "ipython",
    "version": 3
   },
   "file_extension": ".py",
   "mimetype": "text/x-python",
   "name": "python",
   "nbconvert_exporter": "python",
   "pygments_lexer": "ipython3",
   "version": "3.10.18"
  }
 },
 "nbformat": 4,
 "nbformat_minor": 5
}
