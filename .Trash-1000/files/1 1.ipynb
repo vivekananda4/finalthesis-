{
 "cells": [
  {
   "cell_type": "code",
   "execution_count": 1,
   "id": "04edf2fd-09f0-4eea-85ec-7ff2f04e475c",
   "metadata": {},
   "outputs": [
    {
     "name": "stderr",
     "output_type": "stream",
     "text": [
      "/home/ec2-user/anaconda3/envs/python3/lib/python3.10/site-packages/pandas/core/computation/expressions.py:21: UserWarning: Pandas requires version '2.8.4' or newer of 'numexpr' (version '2.7.3' currently installed).\n",
      "  from pandas.core.computation.check import NUMEXPR_INSTALLED\n"
     ]
    },
    {
     "name": "stdout",
     "output_type": "stream",
     "text": [
      "sagemaker.config INFO - Not applying SDK defaults from location: /etc/xdg/sagemaker/config.yaml\n",
      "sagemaker.config INFO - Not applying SDK defaults from location: /home/ec2-user/.config/sagemaker/config.yaml\n"
     ]
    }
   ],
   "source": [
    "import pandas as pd\n",
    "import numpy as np\n",
    "import sagemaker\n",
    "import joblib\n",
    "import tarfile\n",
    "\n",
    "from sagemaker.sklearn.model import SKLearnModel\n",
    "from sagemaker import get_execution_role\n",
    "\n",
    "# Initialize SageMaker session\n",
    "session = sagemaker.Session()\n",
    "bucket = session.default_bucket()\n",
    "role = get_execution_role()\n"
   ]
  },
  {
   "cell_type": "code",
   "execution_count": 2,
   "id": "1f36fd3e-4e70-4544-bff0-4b18eeb6e091",
   "metadata": {},
   "outputs": [
    {
     "data": {
      "text/html": [
       "<div>\n",
       "<style scoped>\n",
       "    .dataframe tbody tr th:only-of-type {\n",
       "        vertical-align: middle;\n",
       "    }\n",
       "\n",
       "    .dataframe tbody tr th {\n",
       "        vertical-align: top;\n",
       "    }\n",
       "\n",
       "    .dataframe thead th {\n",
       "        text-align: right;\n",
       "    }\n",
       "</style>\n",
       "<table border=\"1\" class=\"dataframe\">\n",
       "  <thead>\n",
       "    <tr style=\"text-align: right;\">\n",
       "      <th></th>\n",
       "      <th>temperature</th>\n",
       "      <th>humidity</th>\n",
       "      <th>soil_moisture</th>\n",
       "      <th>irrigation_needed</th>\n",
       "    </tr>\n",
       "  </thead>\n",
       "  <tbody>\n",
       "    <tr>\n",
       "      <th>0</th>\n",
       "      <td>30.82</td>\n",
       "      <td>65.12</td>\n",
       "      <td>31.41</td>\n",
       "      <td>0</td>\n",
       "    </tr>\n",
       "    <tr>\n",
       "      <th>1</th>\n",
       "      <td>20.22</td>\n",
       "      <td>74.94</td>\n",
       "      <td>32.23</td>\n",
       "      <td>0</td>\n",
       "    </tr>\n",
       "    <tr>\n",
       "      <th>2</th>\n",
       "      <td>22.79</td>\n",
       "      <td>86.17</td>\n",
       "      <td>19.16</td>\n",
       "      <td>0</td>\n",
       "    </tr>\n",
       "    <tr>\n",
       "      <th>3</th>\n",
       "      <td>29.28</td>\n",
       "      <td>79.74</td>\n",
       "      <td>36.73</td>\n",
       "      <td>0</td>\n",
       "    </tr>\n",
       "    <tr>\n",
       "      <th>4</th>\n",
       "      <td>22.56</td>\n",
       "      <td>53.00</td>\n",
       "      <td>32.58</td>\n",
       "      <td>0</td>\n",
       "    </tr>\n",
       "  </tbody>\n",
       "</table>\n",
       "</div>"
      ],
      "text/plain": [
       "   temperature  humidity  soil_moisture  irrigation_needed\n",
       "0        30.82     65.12          31.41                  0\n",
       "1        20.22     74.94          32.23                  0\n",
       "2        22.79     86.17          19.16                  0\n",
       "3        29.28     79.74          36.73                  0\n",
       "4        22.56     53.00          32.58                  0"
      ]
     },
     "execution_count": 2,
     "metadata": {},
     "output_type": "execute_result"
    }
   ],
   "source": [
    "data = []\n",
    "for _ in range(1000):\n",
    "    temp = round(np.random.uniform(20, 40), 2)\n",
    "    humidity = round(np.random.uniform(50, 90), 2)\n",
    "    soil = round(np.random.uniform(5, 40), 2)\n",
    "    irrigation = 1 if soil < 15 and temp > 30 else 0\n",
    "    data.append([temp, humidity, soil, irrigation])\n",
    "\n",
    "df = pd.DataFrame(data, columns=[\"temperature\", \"humidity\", \"soil_moisture\", \"irrigation_needed\"])\n",
    "df.to_csv(\"sensor_training_data.csv\", index=False)\n",
    "df.head()\n"
   ]
  },
  {
   "cell_type": "code",
   "execution_count": null,
   "id": "f6a9e158-9ecf-45c7-abb8-08e42c8f4133",
   "metadata": {},
   "outputs": [],
   "source": [
    "import pandas as pd\n",
    "from sklearn.ensemble import RandomForestClassifier\n",
    "import joblib\n",
    "\n",
    "# Load dataset\n",
    "df = pd.read_csv(\"sensor_training_data.csv\")\n",
    "X = df[[\"temperature\", \"humidity\", \"soil_moisture\"]]\n",
    "y = df[\"irrigation_needed\"]\n",
    "\n",
    "# Train model\n",
    "model = RandomForestClassifier(n_estimators=100, random_state=42)\n",
    "model.fit(X, y)\n",
    "\n",
    "# Save with protocol 4 for Python 3.7 compatibility\n",
    "joblib.dump(model, \"irrigation_model.joblib\", protocol=4)\n",
    "print(\" Model saved with protocol 4\")\n"
   ]
  },
  {
   "cell_type": "code",
   "execution_count": null,
   "id": "deefeec4-8085-4633-8ea6-0cd097aa7c5f",
   "metadata": {},
   "outputs": [],
   "source": [
    "import tarfile\n",
    "\n",
    "with tarfile.open(\"model.tar.gz\", \"w:gz\") as tar:\n",
    "    tar.add(\"irrigation_model.joblib\", arcname=\"irrigation_model.joblib\")\n",
    "\n",
    "print(\" New model.tar.gz created\")\n"
   ]
  },
  {
   "cell_type": "code",
   "execution_count": null,
   "id": "4deef29c-c813-41de-9758-06be811ccdb3",
   "metadata": {},
   "outputs": [],
   "source": [
    "import sagemaker\n",
    "session = sagemaker.Session()\n",
    "bucket = session.default_bucket()\n",
    "\n",
    "s3_path = session.upload_data(\"model.tar.gz\", bucket=bucket, key_prefix=\"models\")\n",
    "print(\" Model uploaded to:\", s3_path)\n"
   ]
  },
  {
   "cell_type": "code",
   "execution_count": null,
   "id": "ad0cc390-3e76-4e50-8da5-508b33e800ae",
   "metadata": {},
   "outputs": [
    {
     "name": "stdout",
     "output_type": "stream",
     "text": [
      "-------------------------"
     ]
    }
   ],
   "source": []
  },
  {
   "cell_type": "code",
   "execution_count": null,
   "id": "408025c3-7ef3-4d47-a9bd-43fb8a046310",
   "metadata": {},
   "outputs": [],
   "source": []
  }
 ],
 "metadata": {
  "kernelspec": {
   "display_name": "conda_python3",
   "language": "python",
   "name": "conda_python3"
  },
  "language_info": {
   "codemirror_mode": {
    "name": "ipython",
    "version": 3
   },
   "file_extension": ".py",
   "mimetype": "text/x-python",
   "name": "python",
   "nbconvert_exporter": "python",
   "pygments_lexer": "ipython3",
   "version": "3.10.18"
  }
 },
 "nbformat": 4,
 "nbformat_minor": 5
}
