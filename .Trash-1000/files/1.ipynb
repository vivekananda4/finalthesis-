{
 "cells": [
  {
   "cell_type": "code",
   "execution_count": 1,
   "id": "5a296202-a71f-4d54-875f-c319fefe0d0d",
   "metadata": {},
   "outputs": [
    {
     "name": "stderr",
     "output_type": "stream",
     "text": [
      "/home/ec2-user/anaconda3/envs/python3/lib/python3.10/site-packages/pandas/core/computation/expressions.py:21: UserWarning: Pandas requires version '2.8.4' or newer of 'numexpr' (version '2.7.3' currently installed).\n",
      "  from pandas.core.computation.check import NUMEXPR_INSTALLED\n"
     ]
    },
    {
     "data": {
      "text/html": [
       "<div>\n",
       "<style scoped>\n",
       "    .dataframe tbody tr th:only-of-type {\n",
       "        vertical-align: middle;\n",
       "    }\n",
       "\n",
       "    .dataframe tbody tr th {\n",
       "        vertical-align: top;\n",
       "    }\n",
       "\n",
       "    .dataframe thead th {\n",
       "        text-align: right;\n",
       "    }\n",
       "</style>\n",
       "<table border=\"1\" class=\"dataframe\">\n",
       "  <thead>\n",
       "    <tr style=\"text-align: right;\">\n",
       "      <th></th>\n",
       "      <th>temperature</th>\n",
       "      <th>humidity</th>\n",
       "      <th>soil_moisture</th>\n",
       "      <th>irrigation_needed</th>\n",
       "    </tr>\n",
       "  </thead>\n",
       "  <tbody>\n",
       "    <tr>\n",
       "      <th>0</th>\n",
       "      <td>38.97</td>\n",
       "      <td>58.91</td>\n",
       "      <td>31.45</td>\n",
       "      <td>0</td>\n",
       "    </tr>\n",
       "    <tr>\n",
       "      <th>1</th>\n",
       "      <td>32.45</td>\n",
       "      <td>67.74</td>\n",
       "      <td>24.75</td>\n",
       "      <td>0</td>\n",
       "    </tr>\n",
       "    <tr>\n",
       "      <th>2</th>\n",
       "      <td>33.80</td>\n",
       "      <td>60.85</td>\n",
       "      <td>14.35</td>\n",
       "      <td>1</td>\n",
       "    </tr>\n",
       "    <tr>\n",
       "      <th>3</th>\n",
       "      <td>23.63</td>\n",
       "      <td>80.02</td>\n",
       "      <td>36.17</td>\n",
       "      <td>0</td>\n",
       "    </tr>\n",
       "    <tr>\n",
       "      <th>4</th>\n",
       "      <td>33.57</td>\n",
       "      <td>62.50</td>\n",
       "      <td>17.08</td>\n",
       "      <td>0</td>\n",
       "    </tr>\n",
       "  </tbody>\n",
       "</table>\n",
       "</div>"
      ],
      "text/plain": [
       "   temperature  humidity  soil_moisture  irrigation_needed\n",
       "0        38.97     58.91          31.45                  0\n",
       "1        32.45     67.74          24.75                  0\n",
       "2        33.80     60.85          14.35                  1\n",
       "3        23.63     80.02          36.17                  0\n",
       "4        33.57     62.50          17.08                  0"
      ]
     },
     "execution_count": 1,
     "metadata": {},
     "output_type": "execute_result"
    }
   ],
   "source": [
    "import pandas as pd\n",
    "import numpy as np\n",
    "\n",
    "# Generate 1000 simulated sensor readings\n",
    "data = []\n",
    "for _ in range(1000):\n",
    "    temp = round(np.random.uniform(20, 40), 2)\n",
    "    humidity = round(np.random.uniform(50, 90), 2)\n",
    "    soil = round(np.random.uniform(5, 40), 2)\n",
    "    irrigation = 1 if soil < 15 and temp > 30 else 0\n",
    "    data.append([temp, humidity, soil, irrigation])\n",
    "\n",
    "# Save dataset\n",
    "df = pd.DataFrame(data, columns=[\"temperature\", \"humidity\", \"soil_moisture\", \"irrigation_needed\"])\n",
    "df.to_csv(\"sensor_training_data.csv\", index=False)\n",
    "df.head()\n"
   ]
  },
  {
   "cell_type": "code",
   "execution_count": null,
   "id": "8f44a8a6-5d5a-479b-91e5-90b7891d4ea7",
   "metadata": {},
   "outputs": [],
   "source": []
  }
 ],
 "metadata": {
  "kernelspec": {
   "display_name": "conda_python3",
   "language": "python",
   "name": "conda_python3"
  },
  "language_info": {
   "codemirror_mode": {
    "name": "ipython",
    "version": 3
   },
   "file_extension": ".py",
   "mimetype": "text/x-python",
   "name": "python",
   "nbconvert_exporter": "python",
   "pygments_lexer": "ipython3",
   "version": "3.10.18"
  }
 },
 "nbformat": 4,
 "nbformat_minor": 5
}
