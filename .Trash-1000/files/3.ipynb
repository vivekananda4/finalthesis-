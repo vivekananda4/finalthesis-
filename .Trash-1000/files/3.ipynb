{
 "cells": [
  {
   "cell_type": "code",
   "execution_count": 1,
   "id": "aa8e7c1f-4a3d-4ee2-9e19-2cd049d56440",
   "metadata": {},
   "outputs": [
    {
     "name": "stdout",
     "output_type": "stream",
     "text": [
      " Model packaged as model.tar.gz\n"
     ]
    }
   ],
   "source": [
    "import tarfile\n",
    "\n",
    "with tarfile.open(\"model.tar.gz\", \"w:gz\") as tar:\n",
    "    tar.add(\"irrigation_model.joblib\", arcname=\"irrigation_model.joblib\")\n",
    "print(\" Model packaged as model.tar.gz\")\n"
   ]
  },
  {
   "cell_type": "code",
   "execution_count": 2,
   "id": "970fb0fc-ca37-41a1-94ba-85f30b332be4",
   "metadata": {},
   "outputs": [
    {
     "name": "stderr",
     "output_type": "stream",
     "text": [
      "/home/ec2-user/anaconda3/envs/python3/lib/python3.10/site-packages/pandas/core/computation/expressions.py:21: UserWarning: Pandas requires version '2.8.4' or newer of 'numexpr' (version '2.7.3' currently installed).\n",
      "  from pandas.core.computation.check import NUMEXPR_INSTALLED\n"
     ]
    },
    {
     "name": "stdout",
     "output_type": "stream",
     "text": [
      "sagemaker.config INFO - Not applying SDK defaults from location: /etc/xdg/sagemaker/config.yaml\n",
      "sagemaker.config INFO - Not applying SDK defaults from location: /home/ec2-user/.config/sagemaker/config.yaml\n",
      "Model uploaded to: s3://sagemaker-us-east-1-196936075057/models/model.tar.gz\n"
     ]
    }
   ],
   "source": [
    "import sagemaker\n",
    "\n",
    "session = sagemaker.Session()\n",
    "bucket = session.default_bucket()\n",
    "\n",
    "# Upload tar.gz model to S3\n",
    "s3_path = session.upload_data(\"model.tar.gz\", bucket=bucket, key_prefix=\"models\")\n",
    "print(\"Model uploaded to:\", s3_path)\n"
   ]
  },
  {
   "cell_type": "code",
   "execution_count": null,
   "id": "8eb29eed-ff85-4251-b40e-ce008c2a06fd",
   "metadata": {},
   "outputs": [],
   "source": []
  }
 ],
 "metadata": {
  "kernelspec": {
   "display_name": "conda_python3",
   "language": "python",
   "name": "conda_python3"
  },
  "language_info": {
   "codemirror_mode": {
    "name": "ipython",
    "version": 3
   },
   "file_extension": ".py",
   "mimetype": "text/x-python",
   "name": "python",
   "nbconvert_exporter": "python",
   "pygments_lexer": "ipython3",
   "version": "3.10.18"
  }
 },
 "nbformat": 4,
 "nbformat_minor": 5
}
