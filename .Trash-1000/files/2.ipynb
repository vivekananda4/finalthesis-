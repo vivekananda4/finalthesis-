{
 "cells": [
  {
   "cell_type": "code",
   "execution_count": 3,
   "id": "7fcfea8e-70d0-4347-b652-4464b0b6476a",
   "metadata": {},
   "outputs": [
    {
     "name": "stdout",
     "output_type": "stream",
     "text": [
      "Model trained and saved.\n"
     ]
    }
   ],
   "source": [
    "from sklearn.ensemble import RandomForestClassifier\n",
    "import joblib\n",
    "import pandas as pd\n",
    "\n",
    "\n",
    "# Load dataset\n",
    "df = pd.read_csv(\"sensor_training_data.csv\")\n",
    "X = df[[\"temperature\", \"humidity\", \"soil_moisture\"]]\n",
    "y = df[\"irrigation_needed\"]\n",
    "\n",
    "# Train ML model\n",
    "model = RandomForestClassifier()\n",
    "model.fit(X, y)\n",
    "\n",
    "# Save trained model locally\n",
    "joblib.dump(model, \"irrigation_model.joblib\")\n",
    "print(\"Model trained and saved.\")\n"
   ]
  },
  {
   "cell_type": "code",
   "execution_count": null,
   "id": "15876405-b29f-4ed9-9fb9-9bb34c654f69",
   "metadata": {},
   "outputs": [],
   "source": []
  }
 ],
 "metadata": {
  "kernelspec": {
   "display_name": "conda_python3",
   "language": "python",
   "name": "conda_python3"
  },
  "language_info": {
   "codemirror_mode": {
    "name": "ipython",
    "version": 3
   },
   "file_extension": ".py",
   "mimetype": "text/x-python",
   "name": "python",
   "nbconvert_exporter": "python",
   "pygments_lexer": "ipython3",
   "version": "3.10.18"
  }
 },
 "nbformat": 4,
 "nbformat_minor": 5
}
