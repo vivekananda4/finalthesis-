from imblearn.over_sampling import SMOTE
from sklearn.model_selection import train_test_split
from sklearn.ensemble import RandomForestClassifier
import pandas as pd

# Example
X = df[['Ambient_Temperature', 'Humidity', 'Soil_Moisture', 
        'Light_Intensity', 'Rainfall', 'Annual CO₂ emissions (tonnes )']]
y = df['irrigation_needed']

X_train, X_test, y_train, y_test = train_test_split(X, y, stratify=y, test_size=0.2, random_state=42)

sm = SMOTE(random_state=42)
X_train_balanced, y_train_balanced = sm.fit_resample(X_train, y_train)

print("Balanced counts:\n", pd.Series(y_train_balanced).value_counts())




