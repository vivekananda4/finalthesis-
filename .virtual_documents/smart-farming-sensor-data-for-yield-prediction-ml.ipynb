# This Python 3 environment comes with many helpful analytics libraries installed
# It is defined by the kaggle/python Docker image: https://github.com/kaggle/docker-python
# For example, here's several helpful packages to load

import numpy as np # linear algebra
import pandas as pd # data processing, CSV file I/O (e.g. pd.read_csv)
import seaborn as sns
import matplotlib.pyplot as plt
import warnings
warnings.filterwarnings('ignore')
# Input data files are available in the read-only "../input/" directory
# For example, running this (by clicking run or pressing Shift+Enter) will list all files under the input directory

import os
for dirname, _, filenames in os.walk('/kaggle/input'):
    for filename in filenames:
        print(os.path.join(dirname, filename))

# You can write up to 20GB to the current directory (/kaggle/working/) that gets preserved as output when you create a version using "Save & Run All" 
# You can also write temporary files to /kaggle/temp/, but they won't be saved outside of the current session


import os

for dirname, _, filenames in os.walk('/kaggle/input'):
    for filename in filenames:
        print(os.path.join(dirname, filename))






import os
for dirname, _, filenames in os.walk('/kaggle/input'):
    for filename in filenames:
        print(os.path.join(dirname, filename))









df = pd.read_csv('/kaggle/input/smart-farming-sensor-data-for-yield-prediction/Smart_Farming_Crop_Yield_2024.csv')


df.head()


df.tail()


df.info()


df.describe()


df.isnull().sum()


df.duplicated().sum()


df.shape


df.dtypes


df.columns





# Setup
sns.set(style="whitegrid", palette="muted")
plt.rcParams["figure.figsize"] = (10, 6)


sns.boxplot(data=df, x='crop_type', y='yield_kg_per_hectare')
plt.xticks(rotation=45)
plt.title("Yield Distribution per Crop Type")
plt.ylabel("Yield (kg/ha)")
plt.xlabel("Crop Type")
plt.show()



sns.scatterplot(data=df, x='rainfall_mm', y='yield_kg_per_hectare', hue='crop_type')
plt.title("Rainfall vs Yield by Crop Type")
plt.xlabel("Rainfall (mm)")
plt.ylabel("Yield (kg/ha)")
plt.legend(title="Crop Type", bbox_to_anchor=(1.05, 1), loc='upper left')
plt.show()



env_features = ['soil_moisture_%', 'soil_pH', 'temperature_C', 'rainfall_mm',
                'humidity_%', 'sunlight_hours', 'NDVI_index', 'yield_kg_per_hectare']
corr_matrix = df[env_features].corr()

sns.heatmap(corr_matrix, annot=True, cmap='coolwarm', fmt='.2f')
plt.title("Correlation of Environmental Features with Yield")
plt.show()



sns.barplot(data=df, x='irrigation_type', y='yield_kg_per_hectare', estimator='mean')
plt.title("Average Yield by Irrigation Method")
plt.ylabel("Avg Yield (kg/ha)")
plt.xlabel("Irrigation Type")
plt.xticks(rotation=30)
plt.show()



sns.scatterplot(data=df, x='soil_moisture_%', y='NDVI_index', hue='crop_type')
plt.title("Soil Moisture vs NDVI")
plt.xlabel("Soil Moisture (%)")
plt.ylabel("NDVI Index")
plt.legend(title="Crop Type", bbox_to_anchor=(1.05, 1), loc='upper left')
plt.show()



sns.scatterplot(data=df, x='total_days', y='yield_kg_per_hectare', hue='crop_type')
plt.title("Growth Duration vs Yield")
plt.xlabel("Total Days from Sowing to Harvest")
plt.ylabel("Yield (kg/ha)")
plt.show()



sns.boxplot(data=df, x='fertilizer_type', y='yield_kg_per_hectare')
plt.title("Yield by Fertilizer Type")
plt.ylabel("Yield (kg/ha)")
plt.xlabel("Fertilizer Type")
plt.xticks(rotation=45)
plt.show()



sns.countplot(data=df, x='crop_disease_status', hue='crop_type')
plt.title("Disease Status Across Crop Types")
plt.xlabel("Crop Disease Status")
plt.ylabel("Count")
plt.xticks(rotation=45)
plt.legend(title="Crop Type")
plt.show()



sns.scatterplot(data=df, x='longitude', y='latitude', hue='region', style='crop_type')
plt.title("Farm Locations by Region and Crop")
plt.xlabel("Longitude")
plt.ylabel("Latitude")
plt.legend(bbox_to_anchor=(1.05, 1), loc='upper left')
plt.show()






from sklearn.model_selection import train_test_split
from sklearn.preprocessing import LabelEncoder, StandardScaler
from sklearn.metrics import confusion_matrix, accuracy_score, classification_report
# ML Models
from sklearn.linear_model import LogisticRegression
from sklearn.ensemble import RandomForestClassifier
from sklearn.tree import DecisionTreeClassifier
from sklearn.svm import SVC
from sklearn.neighbors import KNeighborsClassifier
from xgboost import XGBClassifier


# Drop irrelevant and non-numeric columns for classification
df_cleaned = df.drop(columns=[
    'sowing_date', 'harvest_date', 'sensor_id', 'timestamp', 'farm_id'
])

# Encode categorical columns
cat_cols = ['region', 'crop_type', 'irrigation_type', 'fertilizer_type']
label_encoders = {}

for col in cat_cols:
    le = LabelEncoder()
    df_cleaned[col] = le.fit_transform(df_cleaned[col])
    label_encoders[col] = le

# Encode target
df_cleaned['crop_disease_status'] = LabelEncoder().fit_transform(df_cleaned['crop_disease_status'])

# Drop missing values
df_cleaned = df_cleaned.dropna()

# Define features and target
X = df_cleaned.drop(columns='crop_disease_status')
y = df_cleaned['crop_disease_status']

# Ensure all remaining columns are numeric
print(X.dtypes)

# Apply scaling
scaler = StandardScaler()
X_scaled = scaler.fit_transform(X)



X_train, X_test, y_train, y_test = train_test_split(
    X_scaled, y, test_size=0.2, random_state=42, stratify=y
)



models = {
    "Logistic Regression": LogisticRegression(max_iter=1000),
    "Random Forest": RandomForestClassifier(),
    "Decision Tree": DecisionTreeClassifier(),
    "SVM": SVC(probability=True),
    "KNN": KNeighborsClassifier(),
    "XGBoost": XGBClassifier(use_label_encoder=False, eval_metric='mlogloss')
}

results = {}

for name, model in models.items():
    model.fit(X_train, y_train)
    preds = model.predict(X_test)
    
    acc = accuracy_score(y_test, preds)
    cm = confusion_matrix(y_test, preds)
    
    results[name] = {
        "accuracy": acc,
        "confusion_matrix": cm,
        "report": classification_report(y_test, preds, output_dict=True)
    }

    print(f"--- {name} ---")
    print("Accuracy:", round(acc, 4))
    print("Classification Report:")
    print(classification_report(y_test, preds))
    
    sns.heatmap(cm, annot=True, fmt='d', cmap='Blues')
    plt.title(f"Confusion Matrix: {name}")
    plt.xlabel("Predicted")
    plt.ylabel("Actual")
    plt.show()



accuracy_data = {name: res["accuracy"] for name, res in results.items()}

sns.barplot(x=list(accuracy_data.keys()), y=list(accuracy_data.values()))
plt.ylabel("Accuracy Score")
plt.title("Model Comparison")
plt.xticks(rotation=45)
plt.ylim(0, 1)
plt.show()



sns.countplot(x=y)
plt.title("Class Distribution of Crop Disease Status")
plt.show()
print(y.value_counts(normalize=True))



importances = RandomForestClassifier().fit(X_scaled, y).feature_importances_
feat_importance = pd.Series(importances, index=X.columns)
feat_importance.sort_values().plot(kind='barh', figsize=(10, 6), title='Feature Importance')
plt.show()



y_binary = df_cleaned['crop_disease_status'].apply(lambda x: 0 if x == 'None' else 1)



from sklearn.model_selection import GridSearchCV

param_grid = {
    'n_estimators': [100, 200],
    'max_depth': [None, 5, 10],
    'min_samples_split': [2, 5]
}

grid = GridSearchCV(RandomForestClassifier(), param_grid, cv=3)
grid.fit(X_train, y_train)
print("Best Score:", grid.best_score_)
print("Best Params:", grid.best_params_)



from sklearn.neural_network import MLPClassifier

mlp = MLPClassifier(hidden_layer_sizes=(64, 32), max_iter=500, random_state=42)
mlp.fit(X_train, y_train)
y_pred = mlp.predict(X_test)
print("MLP Accuracy:", accuracy_score(y_test, y_pred))




